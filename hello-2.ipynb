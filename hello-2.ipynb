{
 "cells": [
  {
   "cell_type": "code",
   "execution_count": 2,
   "source": [
    "# Integers\n",
    "x = 1\n",
    "print(x)\n",
    "x = 10000000000000000000000000000000\n",
    "print(x)\n"
   ],
   "outputs": [
    {
     "output_type": "stream",
     "name": "stdout",
     "text": [
      "1\n",
      "10000000000000000000000000000000\n"
     ]
    }
   ],
   "metadata": {}
  },
  {
   "cell_type": "code",
   "execution_count": 3,
   "source": [
    "print(type(x))"
   ],
   "outputs": [
    {
     "output_type": "stream",
     "name": "stdout",
     "text": [
      "<class 'int'>\n"
     ]
    }
   ],
   "metadata": {}
  },
  {
   "cell_type": "code",
   "execution_count": 4,
   "source": [
    "age = int(input('Please enter you age: '))\n",
    "print(age)\n",
    "print(type(age))"
   ],
   "outputs": [
    {
     "output_type": "stream",
     "name": "stdout",
     "text": [
      "25\n",
      "<class 'int'>\n"
     ]
    }
   ],
   "metadata": {}
  },
  {
   "cell_type": "code",
   "execution_count": 5,
   "source": [
    "# floating points\n",
    "exchange_rate = 1.83\n",
    "print(exchange_rate)\n",
    "print(type(exchange_rate))"
   ],
   "outputs": [
    {
     "output_type": "stream",
     "name": "stdout",
     "text": [
      "1.83\n",
      "<class 'float'>\n"
     ]
    }
   ],
   "metadata": {}
  },
  {
   "cell_type": "code",
   "execution_count": 7,
   "source": [
    "# Converting an input string into a floaring point number\n",
    "exchange_rate = float(input('Please enter the exchange rate to use: '))\n",
    "print(exchange_rate)\n",
    "print(type(exchange_rate))"
   ],
   "outputs": [
    {
     "output_type": "stream",
     "name": "stdout",
     "text": [
      "3.6\n",
      "<class 'float'>\n"
     ]
    }
   ],
   "metadata": {}
  },
  {
   "cell_type": "code",
   "execution_count": 9,
   "source": [
    "# Boolean value\n",
    "all_ok = True\n",
    "print(all_ok)\n",
    "all_ok = False\n",
    "print(all_ok)"
   ],
   "outputs": [
    {
     "output_type": "stream",
     "name": "stdout",
     "text": [
      "True\n",
      "False\n"
     ]
    }
   ],
   "metadata": {}
  },
  {
   "cell_type": "code",
   "execution_count": 14,
   "source": [
    "# Convert string into Boolean\n",
    "status = bool(input('Ok to proceed: '))\n",
    "print(status)\n",
    "print(type(status))"
   ],
   "outputs": [
    {
     "output_type": "stream",
     "name": "stdout",
     "text": [
      "False\n",
      "<class 'bool'>\n"
     ]
    }
   ],
   "metadata": {}
  },
  {
   "cell_type": "code",
   "execution_count": 19,
   "source": [
    "home = 10\n",
    "away = 15\n",
    "print(home + away)\n",
    "print(type(home+away))\n",
    "print(10*4)\n",
    "goals_for = 10\n",
    "goals_against = 7\n",
    "print(goals_for-goals_against)"
   ],
   "outputs": [
    {
     "output_type": "stream",
     "name": "stdout",
     "text": [
      "25\n",
      "<class 'int'>\n",
      "40\n",
      "3\n"
     ]
    }
   ],
   "metadata": {}
  },
  {
   "cell_type": "code",
   "execution_count": 26,
   "source": [
    "print(11/3)\n",
    "print(11//3)\n",
    "print(4*2)\n",
    "print(4**2)\n"
   ],
   "outputs": [
    {
     "output_type": "stream",
     "name": "stdout",
     "text": [
      "3.6666666666666665\n",
      "3\n",
      "8\n",
      "16\n"
     ]
    }
   ],
   "metadata": {}
  },
  {
   "cell_type": "code",
   "execution_count": 28,
   "source": [
    "num = int(input(\"Enter a number: \"))\n",
    "if num < 0:\n",
    "  print(num,\"is a negative value\")"
   ],
   "outputs": [],
   "metadata": {}
  },
  {
   "cell_type": "code",
   "execution_count": 29,
   "source": [
    "num = int(input(\"Enter a number: \"))\n",
    "if num > 0:\n",
    "    print(num, 'is positive')\n",
    "    print(num, 'square is', num*num)\n",
    "print('Bye')    "
   ],
   "outputs": [
    {
     "output_type": "stream",
     "name": "stdout",
     "text": [
      "5 is positive\n",
      "5 square is 25\n",
      "Bye\n"
     ]
    }
   ],
   "metadata": {}
  },
  {
   "cell_type": "code",
   "execution_count": 35,
   "source": [
    "savings = float(input(\"Enter how much you have in savings: \"))\n",
    "if savings == 0:\n",
    "   print(\"Sorry no savings\")\n",
    "elif savings < 500:\n",
    "   print(\"Well done\")\n",
    "elif savings < 1000:\n",
    "   print(\"Thats a tidy sum\")\n",
    "elif savings < 10000:\n",
    "   print(\"Welcome Sir!!!\")   \n",
    "else:\n",
    "   print('Thank you')       "
   ],
   "outputs": [
    {
     "output_type": "stream",
     "name": "stdout",
     "text": [
      "Thank you\n"
     ]
    }
   ],
   "metadata": {}
  },
  {
   "cell_type": "code",
   "execution_count": 37,
   "source": [
    "age = 30\n",
    "status = None\n",
    "if (age>12) and (age<20):\n",
    "    status = 'teenager'\n",
    "else:\n",
    "    status = 'not teenager'\n",
    "print(status)        "
   ],
   "outputs": [
    {
     "output_type": "stream",
     "name": "stdout",
     "text": [
      "not teenager\n"
     ]
    }
   ],
   "metadata": {}
  },
  {
   "cell_type": "code",
   "execution_count": 40,
   "source": [
    "# Nesting if Statements\n",
    "snowing = True\n",
    "temp = 15\n",
    "if temp < 65:\n",
    "    print('It is freezing')\n",
    "    if snowing:\n",
    "       print('Put on boots')\n",
    "       print('Time for hot chocolate')\n",
    "print('Bye')        "
   ],
   "outputs": [
    {
     "output_type": "stream",
     "name": "stdout",
     "text": [
      "It is freezing\n",
      "Put on boots\n",
      "Time for hot chocolate\n",
      "Bye\n"
     ]
    }
   ],
   "metadata": {}
  },
  {
   "cell_type": "code",
   "execution_count": 41,
   "source": [
    "count = 0\n",
    "while count < 10:\n",
    "    print(count,' ', end=' ')\n",
    "    count +=1\n",
    "    #count = count + 1\n",
    "print('Done')    "
   ],
   "outputs": [
    {
     "output_type": "stream",
     "name": "stdout",
     "text": [
      "0   1   2   3   4   5   6   7   8   9   Done\n"
     ]
    }
   ],
   "metadata": {}
  },
  {
   "cell_type": "code",
   "execution_count": 42,
   "source": [
    "print('Print out values in a range')\n",
    "for i in range(0,10):\n",
    "    print(i,' ', end=' ')\n",
    "print('done')    "
   ],
   "outputs": [
    {
     "output_type": "stream",
     "name": "stdout",
     "text": [
      "Print out values in a range\n",
      "0   1   2   3   4   5   6   7   8   9   done\n"
     ]
    }
   ],
   "metadata": {}
  },
  {
   "cell_type": "code",
   "execution_count": 45,
   "source": [
    "# Break Loop Statements \n",
    "print('Only print code if all interation competed')\n",
    "num = int(input('Enter a number to check for: '))\n",
    "for i in range(0,6):\n",
    "    if i==num:\n",
    "        break\n",
    "    print(i, ' ', end=' ')\n",
    "print('done')    \n",
    "\n"
   ],
   "outputs": [
    {
     "output_type": "stream",
     "name": "stdout",
     "text": [
      "Only print code if all interation competed\n",
      "0   1   2   3   4   5   done\n"
     ]
    }
   ],
   "metadata": {}
  }
 ],
 "metadata": {
  "orig_nbformat": 4,
  "language_info": {
   "name": "python",
   "version": "3.9.2",
   "mimetype": "text/x-python",
   "codemirror_mode": {
    "name": "ipython",
    "version": 3
   },
   "pygments_lexer": "ipython3",
   "nbconvert_exporter": "python",
   "file_extension": ".py"
  },
  "kernelspec": {
   "name": "python3",
   "display_name": "Python 3.9.2 64-bit"
  },
  "interpreter": {
   "hash": "321a562c32c1ef0f4d1bce6724f96cbf5562b75820608d2935414fe72bdf9c83"
  }
 },
 "nbformat": 4,
 "nbformat_minor": 2
}